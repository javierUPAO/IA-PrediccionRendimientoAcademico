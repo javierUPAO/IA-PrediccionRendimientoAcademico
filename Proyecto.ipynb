{
 "cells": [
  {
   "cell_type": "code",
   "execution_count": 36,
   "id": "efcf1554",
   "metadata": {},
   "outputs": [
    {
     "name": "stdout",
     "output_type": "stream",
     "text": [
      "Requirement already satisfied: xgboost in c:\\programdata\\anaconda3\\envs\\pyspark-env\\lib\\site-packages (3.0.1)\n",
      "Requirement already satisfied: numpy in c:\\programdata\\anaconda3\\envs\\pyspark-env\\lib\\site-packages (from xgboost) (1.26.4)\n",
      "Requirement already satisfied: scipy in c:\\programdata\\anaconda3\\envs\\pyspark-env\\lib\\site-packages (from xgboost) (1.14.1)\n",
      "Note: you may need to restart the kernel to use updated packages.\n"
     ]
    }
   ],
   "source": [
    "pip install xgboost"
   ]
  },
  {
   "cell_type": "code",
   "execution_count": 37,
   "id": "169123ef",
   "metadata": {},
   "outputs": [
    {
     "name": "stdout",
     "output_type": "stream",
     "text": [
      "Requirement already satisfied: openpyxl in c:\\programdata\\anaconda3\\envs\\pyspark-env\\lib\\site-packages (3.1.5)\n",
      "Requirement already satisfied: et-xmlfile in c:\\programdata\\anaconda3\\envs\\pyspark-env\\lib\\site-packages (from openpyxl) (2.0.0)\n",
      "Note: you may need to restart the kernel to use updated packages.\n"
     ]
    }
   ],
   "source": [
    "pip install openpyxl"
   ]
  },
  {
   "cell_type": "code",
   "execution_count": 38,
   "id": "518e806b",
   "metadata": {},
   "outputs": [],
   "source": [
    "import pandas as pd\n",
    "from tkinter import filedialog, messagebox,scrolledtext\n",
    "from tkinter.filedialog import askopenfilename\n",
    "import joblib\n",
    "import tkinter as tk"
   ]
  },
  {
   "cell_type": "code",
   "execution_count": 39,
   "id": "c149a50f",
   "metadata": {},
   "outputs": [],
   "source": [
    "def predecir_rendimiento(archivo_excel_df):\n",
    "  modelo = joblib.load('modelo_entrenado_xgb.pkl')\n",
    "  columnas_entrada = ['Hours_Studied', 'Attendance', 'Parental_Involvement',\n",
    "    'Access_to_Resources', 'Extracurricular_Activities', 'Sleep_Hours',\n",
    "    'Motivation_Level', 'Internet_Access', 'Tutoring_Sessions',\n",
    "    'Family_Income', 'Teacher_Quality', 'School_Type',\n",
    "    'Learning_Disabilities', 'Parental_Education_Level', 'Distance_from_Home']\n",
    "\n",
    "  mapeo_columnas = {\n",
    "    'Horas de estudio': 'Hours_Studied',\n",
    "    'Porcentaje Asistencias': 'Attendance',\n",
    "    'Participación de los padres': 'Parental_Involvement',\n",
    "    'Acceso a recursos': 'Access_to_Resources',\n",
    "    'Actividades Extracurriculares': 'Extracurricular_Activities',\n",
    "    'Horas de sueño': 'Sleep_Hours',\n",
    "    'Nivel de motivación': 'Motivation_Level',\n",
    "    'Acceso a internet': 'Internet_Access',\n",
    "    'Sesiones de tutoria': 'Tutoring_Sessions',\n",
    "    'Ingresos familiares': 'Family_Income',\n",
    "    'Calidad docente': 'Teacher_Quality',\n",
    "    'Tipo escuela origen': 'School_Type',\n",
    "    'Discapacidad Cognitiva': 'Learning_Disabilities',\n",
    "    'Educación parental': 'Parental_Education_Level',\n",
    "    'Distancia de casa': 'Distance_from_Home'\n",
    "    }\n",
    "  df_original = archivo_excel_df.copy()\n",
    "  archivo_excel_df = df_original.rename(columns=mapeo_columnas)\n",
    "\n",
    "  columnas_eliminar = ['Id Estudiante', 'Nombres', 'Apellidos']\n",
    "  archivo_excel_df = archivo_excel_df.drop(columns=[col for col in columnas_eliminar if col in archivo_excel_df.columns], errors='ignore')\n",
    "\n",
    "  ordinal_maps = {\n",
    "    'Parental_Involvement': {'Bajo': 0, 'Medio': 50, 'Alto': 100},\n",
    "    'Access_to_Resources': {'Bajo': 0, 'Medio': 50, 'Alto': 100},\n",
    "    'Motivation_Level': {'Bajo': 0, 'Medio': 50, 'Alto': 100},\n",
    "    'Extracurricular_Activities': {'No': 0, 'Si': 100},\n",
    "    'Internet_Access': {'No': 0, 'Si': 100},\n",
    "    'Family_Income': {'Bajo': 0, 'Medio': 50, 'Alto': 100},\n",
    "    'Teacher_Quality': {'Bajo': 0, 'Medio': 50, 'Alto': 100},\n",
    "    'School_Type': {'Publica': 25, 'Privada': 75},\n",
    "    'Learning_Disabilities': {'No': 100, 'Si': 0}, \n",
    "    'Parental_Education_Level': {'Secundaria completa': 25, 'Bachiller': 50, 'Titulado': 100},\n",
    "    'Distance_from_Home': {'Lejos': 0, 'Moderado': 50, 'Cerca': 100}}\n",
    "\n",
    "  for col, mapping in ordinal_maps.items():\n",
    "      archivo_excel_df[col] = archivo_excel_df[col].map(mapping)\n",
    "\n",
    "  if not all(col in archivo_excel_df.columns for col in columnas_entrada):\n",
    "      raise ValueError(\"El archivo no contiene todas las columnas requeridas.\")\n",
    "  \n",
    "  predicciones = modelo.predict(archivo_excel_df[columnas_entrada])\n",
    "  \n",
    "  df_original['Rendimiento_Predicho'] = predicciones\n",
    "\n",
    "  return df_original\n",
    "\n"
   ]
  },
  {
   "cell_type": "code",
   "execution_count": 43,
   "id": "94b10df4",
   "metadata": {},
   "outputs": [],
   "source": [
    "def mostrar_resultado(df_resultado):\n",
    "    ventana_resultado = tk.Toplevel(root)\n",
    "    ventana_resultado.title(\"Resultado de la Predicción\")\n",
    "    ventana_resultado.geometry(\"600x400\")\n",
    "\n",
    "    st = scrolledtext.ScrolledText(ventana_resultado, width=80, height=20)\n",
    "    st.pack(padx=10, pady=10, fill=tk.BOTH, expand=True)\n",
    "\n",
    "    st.insert(tk.END, df_resultado[['Id Estudiante', 'Nombres', 'Apellidos', 'Rendimiento_Predicho']].head(15).to_string())\n",
    "    st.configure(state='disabled')  # Para que no se pueda editar\n",
    "    \n",
    "    def guardar_archivo():\n",
    "        ruta = filedialog.asksaveasfilename(\n",
    "            initialfile=\"resultados.xlsx\",\n",
    "            defaultextension=\".xlsx\",\n",
    "            filetypes=[(\"Archivos Excel\", \"*.xlsx\")],\n",
    "            title=\"Guardar archivo Excel\"\n",
    "        )\n",
    "        if ruta:\n",
    "            try:\n",
    "                df_resultado.to_excel(ruta, index=False)\n",
    "                messagebox.showinfo(\"Guardado\", f\"Archivo guardado en:\\n{ruta}\")\n",
    "            except Exception as e:\n",
    "                messagebox.showerror(\"Error\", f\"No se pudo guardar el archivo:\\n{e}\")\n",
    "\n",
    "    btn_guardar = tk.Button(ventana_resultado, text=\"Guardar resultado Excel\", command=guardar_archivo)\n",
    "    btn_guardar.pack(pady=10)"
   ]
  },
  {
   "cell_type": "code",
   "execution_count": 41,
   "id": "5313b2d5",
   "metadata": {},
   "outputs": [],
   "source": [
    "def cargar_archivo():\n",
    "    filepath = filedialog.askopenfilename(\n",
    "        title=\"Selecciona un archivo Excel\",\n",
    "        filetypes=[(\"Archivos Excel\", \"*.xlsx *.xls\")]\n",
    "    )\n",
    "    if not filepath:\n",
    "        messagebox.showwarning(\"Atención\", \"No se seleccionó ningún archivo.\")\n",
    "        return\n",
    "\n",
    "    try:\n",
    "        df = pd.read_excel(filepath)\n",
    "        messagebox.showinfo(\"Archivo cargado\", f\"Archivo cargado correctamente:\\n{filepath}\")\n",
    "        resultado = predecir_rendimiento(df)\n",
    "        mostrar_resultado(resultado)\n",
    "    except Exception as e:\n",
    "        messagebox.showerror(\"Error\", f\"No se pudo cargar el archivo:\\n{e}\")"
   ]
  },
  {
   "cell_type": "code",
   "execution_count": 46,
   "id": "42f33697",
   "metadata": {},
   "outputs": [],
   "source": [
    "root = tk.Tk()\n",
    "root.title(\"Cargar Excel para Predicción\")\n",
    "root.geometry(\"400x150\")\n",
    "\n",
    "btn_cargar = tk.Button(root, text=\"Seleccionar archivo Excel\", command=cargar_archivo)\n",
    "btn_cargar.pack(expand=True)\n",
    "\n",
    "root.mainloop()"
   ]
  }
 ],
 "metadata": {
  "kernelspec": {
   "display_name": "pyspark-env",
   "language": "python",
   "name": "pyspark-env"
  },
  "language_info": {
   "codemirror_mode": {
    "name": "ipython",
    "version": 3
   },
   "file_extension": ".py",
   "mimetype": "text/x-python",
   "name": "python",
   "nbconvert_exporter": "python",
   "pygments_lexer": "ipython3",
   "version": "3.10.15"
  }
 },
 "nbformat": 4,
 "nbformat_minor": 5
}
